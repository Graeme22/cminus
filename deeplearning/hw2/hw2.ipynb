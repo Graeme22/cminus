{
 "cells": [
  {
   "cell_type": "markdown",
   "metadata": {},
   "source": [
    "## Homework 2: Wine Quality Prediction Using SGD\n",
    "### Student Name: Graeme Holliday\n",
    "### Department: Computer Science\n",
    "### Course: CS 474/574: Deep Learning/2020 Fall\n",
    "### Due: 09/25/2020\n",
    "\n",
    "\n",
    "Description: In this homework, you are going to implement the stochastic gradient optimization (mini-batch) to solve the wine quality prediction problem. Using the following code as your template. Specific requirements:\n",
    "\n",
    "1. Use the SGD function definition given in the code (def SGD(X, Y, lr = 0.001, batch_size = 32, epoch = 100):); and do not change it.\n",
    "\n",
    "2. SGD implementation. 35 pts\n",
    "    - Shuffle data (X and Y) at the beginning of each epoch. (10 pts)\n",
    "    - update w using minibatches correctly. (10 pts)\n",
    "    - record the loss and w at the end of each epoch. (10 pts)\n",
    "    - Decay learning rate at the end of each epoch. (5 points)\n",
    "    \n",
    "3. Evaluation (cross-validation). 65 pts\n",
    "    - Split the dataset into training (70%) and test (30%) sets. (10 points)\n",
    "    - Calculate and print out the MSE and MAE of GD for the training and test sets, respectively. (20 points)\n",
    "        - Print formate: \n",
    "            The training MSE is: , the traing MAE is: .\n",
    "            The test MSE is: , the test MAE is: .               \n",
    "    - Calculate and print out the MSE and MAE of SGD for the training and test sets, respectively. (20 points)\n",
    "         - Print formate: \n",
    "            The training MSE is: , the traing MAE is: .\n",
    "            The test MSE is: , the test MAE is: . \n",
    "            \n",
    "    - Plot the loss curve for SGD. (5 points)\n",
    "        - tip: using the 'plot' function in matplotlib\n",
    "        \n",
    "    - Plot the mse curves on the training and test sets, respectively, over the weight sequence (w_hist). (10 points)"
   ]
  },
  {
   "cell_type": "code",
   "execution_count": 26,
   "metadata": {},
   "outputs": [
    {
     "name": "stdout",
     "output_type": "stream",
     "text": [
      "Data shape: X: (4898, 11) Y: (4898,)\n"
     ]
    }
   ],
   "source": [
    "import pandas as pd\n",
    "import numpy as np\n",
    "from matplotlib import pyplot as plt\n",
    "\n",
    "## (1) Data preparation\n",
    "df = pd.read_csv('winequality-white.csv', sep = ';')\n",
    "X = df.values[:, :11]\n",
    "Y = df.values[:, 11]\n",
    "print('Data shape:', 'X:', X.shape, 'Y:', Y.shape)\n",
    "\n",
    "# data normalization\n",
    "min_vals = np.min(X, axis = 0)\n",
    "max_vals = np.max(X, axis = 0)\n",
    "X1 = (X-min_vals)/(max_vals-min_vals)\n",
    "\n",
    "##(2) Assume a linear mode that y = w0*1 + w_1*x_1 +w_2*x_2+...+ w_11*x_11\n",
    "def predict(X, w):\n",
    "    '''\n",
    "    X: input feature vectors:m*n\n",
    "    w: weights\n",
    "    \n",
    "    return Y_hat\n",
    "    '''\n",
    "    # Prediction\n",
    "    Y_hat = np.zeros((X.shape[0]))\n",
    "    for idx, x in enumerate(X):          \n",
    "        y_hat = w[0] + np.dot(w[1:].T, np.c_[x]) # linear model\n",
    "        Y_hat[idx] = y_hat    \n",
    "    return Y_hat\n",
    "\n",
    "## (3) Loss function: L = 1/2 * sum(y_hat_i - y_i)^2\n",
    "def loss(w, X, Y):\n",
    "    '''\n",
    "    w: weights\n",
    "    X: input feature vectors\n",
    "    Y: targets\n",
    "    '''\n",
    "    Y_hat = predict(X, w)\n",
    "    loss = np.sum(np.square(Y - Y_hat)) / 2\n",
    "    \n",
    "    return loss\n",
    "\n",
    "# Optimization 1: Gradient Descent\n",
    "def GD(X, Y, lr = 0.001, delta = 0.01, max_iter = 100):\n",
    "    '''\n",
    "    X: training data\n",
    "    Y: training target\n",
    "    lr: learning rate\n",
    "    max_iter: the max iterations\n",
    "    '''\n",
    "    \n",
    "    m = len(Y)\n",
    "    b = np.reshape(Y, [Y.shape[0],1])\n",
    "    w = np.random.rand(X.shape[1] + 1, 1)\n",
    "    A = np.c_[np.ones((m, 1)), X]\n",
    "    gradient = A.T.dot(np.dot(A, w) - b)\n",
    "    \n",
    "    loss_hist = np.zeros(max_iter) # history of loss\n",
    "    w_hist = np.zeros((max_iter, w.shape[0])) # history of weight\n",
    "    loss_w = 0\n",
    "    i = 0                  \n",
    "    while(np.linalg.norm(gradient) > delta) and (i < max_iter):\n",
    "        w_hist[i,:] = w.T\n",
    "        loss_w = loss(w, X, Y)\n",
    "        loss_hist[i] = loss_w\n",
    "        \n",
    "        w = w - lr * gradient\n",
    "        gradient = A.T.dot(np.dot(A, w) - b) # update the gradient using new w\n",
    "        i = i + 1\n",
    "        \n",
    "    w_star = w  \n",
    "    return w_star, loss_hist, w_hist"
   ]
  },
  {
   "cell_type": "code",
   "execution_count": 27,
   "metadata": {},
   "outputs": [],
   "source": [
    "# shuffle two arrays while maintaining their relation to each other.\n",
    "def shuffle_in_unison(a, b):\n",
    "    assert len(a) == len(b)\n",
    "    p = np.random.permutation(len(a))\n",
    "    return a[p], b[p]"
   ]
  },
  {
   "cell_type": "code",
   "execution_count": 28,
   "metadata": {},
   "outputs": [],
   "source": [
    "# create separate training and test data sets\n",
    "def train_test_split(X, Y, train_size, shuffle=True):\n",
    "    if shuffle:\n",
    "        x, y = shuffle_in_unison(X, Y)\n",
    "    \n",
    "    # split\n",
    "    x_train = x[:train_size]\n",
    "    y_train = y[:train_size]\n",
    "    x_test = x[train_size:]\n",
    "    y_test = y[train_size:]\n",
    "    \n",
    "    return x_train, y_train, x_test, y_test"
   ]
  },
  {
   "cell_type": "code",
   "execution_count": 29,
   "metadata": {},
   "outputs": [],
   "source": [
    "def mae(x, x_hat):\n",
    "    assert len(x) == len(x_hat)\n",
    "    n = len(x)\n",
    "    total = 0\n",
    "    for i in range(n):\n",
    "        total += abs(x[i] - x_hat[i])\n",
    "    return total / n\n",
    "\n",
    "def mse(x, x_hat):\n",
    "    assert len(x) == len(x_hat)\n",
    "    n = len(x)\n",
    "    total = 0\n",
    "    for i in range(n):\n",
    "        total += (x[i] - x_hat[i]) ** 2\n",
    "    return total / n"
   ]
  },
  {
   "cell_type": "code",
   "execution_count": 30,
   "metadata": {
    "scrolled": false
   },
   "outputs": [],
   "source": [
    "# Optimization 2: implement the minibatch Gradient Descent approach\n",
    "def SGD(X, Y, lr = 0.001, batch_size = 32, epoch = 100, decay = 0.01):\n",
    "    '''\n",
    "    X: training data\n",
    "    Y: training target\n",
    "    lr: learning rate\n",
    "    batch_size: batch size\n",
    "    epoch: number of max epoches\n",
    "    \n",
    "    return: w_star, loss_hist, w_hist\n",
    "    '''\n",
    "    \n",
    "    m = len(Y)\n",
    "    w = np.random.rand(X.shape[1] + 1, 1)\n",
    "    loss_hist = np.zeros(epoch) # loss history\n",
    "    w_hist = np.zeros((epoch, w.shape[0])) # w history\n",
    "\n",
    "    # Add your code here\n",
    "    #------------------------\n",
    "    for i in range(epoch):\n",
    "        x, y = shuffle_in_unison(X, Y)\n",
    "        \n",
    "        # break data into minibatches\n",
    "        x_batches = np.array_split(x, int(m / batch_size))\n",
    "        y_batches = np.array_split(y, int(m / batch_size))\n",
    "        \n",
    "        # iterate over batches\n",
    "        n_batches = len(y_batches)\n",
    "        for j in range(n_batches):\n",
    "            # format batch data\n",
    "            x_j = x_batches[j]\n",
    "            y_j = y_batches[j]\n",
    "            x_j = np.c_[np.ones((y_j.shape[0])), x_j]\n",
    "            y_j = np.expand_dims(y_j, -1)\n",
    "            \n",
    "            # update w\n",
    "            grad = x_j.T.dot(np.dot(x_j, w) - y_j)\n",
    "            w = w - lr * grad / n_batches\n",
    "\n",
    "        lr /= 1 + decay * i # simple lr decay\n",
    "        loss_hist[i] = loss(w, X, Y)\n",
    "        w_hist[i, :] = w.T\n",
    "    #--------------------------\n",
    "    \n",
    "    w_star = w\n",
    "    return w_star, loss_hist, w_hist"
   ]
  },
  {
   "cell_type": "code",
   "execution_count": 33,
   "metadata": {},
   "outputs": [
    {
     "data": {
      "image/png": "[encoded data removed]",
      "text/plain": [
       "<Figure size 432x288 with 1 Axes>"
      ]
     },
     "metadata": {
      "needs_background": "light"
     },
     "output_type": "display_data"
    },
    {
     "name": "stdout",
     "output_type": "stream",
     "text": [
      "The training MSE is: 1.970921339598334, the training MAE is: 1.0934881024181566. The test MSE is: 2.0069946691028515, the test MAE is: 1.0921075690227164.\n"
     ]
    }
   ],
   "source": [
    "# use 70% of data for training\n",
    "x_train, y_train, x_test, y_test = train_test_split(X, Y, int(0.7 * Y.shape[0]))\n",
    "\n",
    "'''\n",
    "SGD\n",
    "'''\n",
    "\n",
    "# run SGD to find w_star\n",
    "epochs = 100\n",
    "# the lr hyperparameter is very sensitive, values an order of magnitude greater than 1e-4 will NOT work!\n",
    "w_star_sgd, loss_hist_sgd, w_hist_sgd = SGD(x_train, y_train, lr=1e-4, epoch=epochs, decay=0.01)\n",
    "\n",
    "y_train_hat = predict(x_train, w_star_sgd)\n",
    "y_test_hat = predict(x_test, w_star_sgd)\n",
    "# compare those MSEs and MAEs, print them\n",
    "\n",
    "# show the Loss curve\n",
    "plt.plot(range(epochs), loss_hist_sgd)\n",
    "plt.xlabel('Iterations')\n",
    "plt.ylabel('Loss')\n",
    "plt.title('SGD')\n",
    "plt.show()\n",
    "\n",
    "train_mse_sgd = mse(y_train, y_train_hat)\n",
    "train_mae_sgd = mae(y_train, y_train_hat)\n",
    "test_mse_sgd = mse(y_test, y_test_hat)\n",
    "test_mae_sgd = mae(y_test, y_test_hat)\n",
    "print('The training MSE is: {}, the training MAE is: {}. The test MSE is: {}, the test MAE is: {}.'.format(train_mse_sgd, train_mae_sgd, test_mse_sgd, test_mae_sgd))"
   ]
  },
  {
   "cell_type": "code",
   "execution_count": 34,
   "metadata": {},
   "outputs": [
    {
     "data": {
      "image/png": "[encoded data removed]",
      "text/plain": [
       "<Figure size 432x288 with 1 Axes>"
      ]
     },
     "metadata": {
      "needs_background": "light"
     },
     "output_type": "display_data"
    },
    {
     "name": "stdout",
     "output_type": "stream",
     "text": [
      "The training MSE is: 1.4607854600391035e+105, the training MAE is: 3.65535971970947e+52. The test MSE is: 1.476702696076135e+105, the test MAE is: 3.677106543205065e+52.\n"
     ]
    }
   ],
   "source": [
    "'''\n",
    "GD\n",
    "'''\n",
    "\n",
    "w_star, loss_hist, w_hist = GD(X, Y, lr = 0.001, delta = 0.01, max_iter = 10)\n",
    "\n",
    "y_train_hat = predict(x_train, w_star)\n",
    "y_test_hat = predict(x_test, w_star)\n",
    "\n",
    "# show the Loss curve\n",
    "plt.plot(range(10), loss_hist)\n",
    "plt.xlabel('Iterations')\n",
    "plt.ylabel('Loss')\n",
    "plt.title('GD')\n",
    "plt.show()\n",
    "\n",
    "train_mse = mse(y_train, y_train_hat)\n",
    "train_mae = mae(y_train, y_train_hat)\n",
    "test_mse = mse(y_test, y_test_hat)\n",
    "test_mae = mae(y_test, y_test_hat)\n",
    "#The training MSE is: , the traing MAE is: . The test MSE is: , the test MAE is: .\n",
    "print('The training MSE is: {}, the training MAE is: {}. The test MSE is: {}, the test MAE is: {}.'.format(train_mse, train_mae, test_mse, test_mae))"
   ]
  },
  {
   "cell_type": "code",
   "execution_count": 35,
   "metadata": {},
   "outputs": [
    {
     "data": {
      "image/png": "[encoded data removed]",
      "text/plain": [
       "<Figure size 432x288 with 1 Axes>"
      ]
     },
     "metadata": {
      "needs_background": "light"
     },
     "output_type": "display_data"
    },
    {
     "data": {
      "image/png": "[encoded data removed]",
      "text/plain": [
       "<Figure size 432x288 with 1 Axes>"
      ]
     },
     "metadata": {
      "needs_background": "light"
     },
     "output_type": "display_data"
    }
   ],
   "source": [
    "# train\n",
    "train_mses = []\n",
    "for w in w_hist_sgd:\n",
    "    y_train_hat = predict(x_train, w)\n",
    "    train_mses.append(mse(y_train, y_train_hat))\n",
    "plt.plot(range(len(train_mses)), train_mses)\n",
    "plt.xlabel('Iterations')\n",
    "plt.ylabel('MSE')\n",
    "plt.title('Train')\n",
    "plt.show()\n",
    "    \n",
    "# test\n",
    "test_mses = []\n",
    "for w in w_hist_sgd:\n",
    "    y_test_hat = predict(x_test, w)\n",
    "    test_mses.append(mse(y_test, y_test_hat))\n",
    "plt.plot(range(len(test_mses)), test_mses)\n",
    "plt.xlabel('Iterations')\n",
    "plt.ylabel('MSE')\n",
    "plt.title('Test')\n",
    "plt.show()"
   ]
  }
 ],
 "metadata": {
  "kernelspec": {
   "display_name": "Python 3",
   "language": "python",
   "name": "python3"
  },
  "language_info": {
   "codemirror_mode": {
    "name": "ipython",
    "version": 3
   },
   "file_extension": ".py",
   "mimetype": "text/x-python",
   "name": "python",
   "nbconvert_exporter": "python",
   "pygments_lexer": "ipython3",
   "version": "3.8.3"
  }
 },
 "nbformat": 4,
 "nbformat_minor": 2
}
