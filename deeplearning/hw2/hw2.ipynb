{
 "cells": [
  {
   "cell_type": "markdown",
   "metadata": {},
   "source": [
    "## Homework 2: Wine Quality Prediction Using SGD\n",
    "### Student Name: Graeme Holliday\n",
    "### Department: Computer Science\n",
    "### Course: CS 474/574: Deep Learning/2020 Fall\n",
    "### Due: 09/25/2020\n",
    "\n",
    "\n",
    "Description: In this homework, you are going to implement the stochastic gradient optimization (mini-batch) to solve the wine quality prediction problem. Using the following code as your template. Specific requirements:\n",
    "\n",
    "1. Use the SGD function definition given in the code (def SGD(X, Y, lr = 0.001, batch_size = 32, epoch = 100):); and do not change it.\n",
    "\n",
    "2. SGD implementation. 35 pts\n",
    "    - Shuffle data (X and Y) at the beginning of each epoch. (10 pts)\n",
    "    - update w using minibatches correctly. (10 pts)\n",
    "    - record the loss and w at the end of each epoch. (10 pts)\n",
    "    - Decay learning rate at the end of each epoch. (5 points)\n",
    "    \n",
    "3. Evaluation (cross-validation). 65 pts\n",
    "    - Split the dataset into training (70%) and test (30%) sets. (10 points)\n",
    "    - Calculate and print out the MSE and MAE of GD for the training and test sets, respectively. (20 points)\n",
    "        - Print formate: \n",
    "            The training MSE is: , the traing MAE is: .\n",
    "            The test MSE is: , the test MAE is: .               \n",
    "    - Calculate and print out the MSE and MAE of SGD for the training and test sets, respectively. (20 points)\n",
    "         - Print formate: \n",
    "            The training MSE is: , the traing MAE is: .\n",
    "            The test MSE is: , the test MAE is: . \n",
    "            \n",
    "    - Plot the loss curve for SGD. (5 points)\n",
    "        - tip: using the 'plot' function in matplotlib\n",
    "        \n",
    "    - Plot the mse curves on the training and test sets, respectively, over the weight sequence (w_hist). (10 points)"
   ]
  },
  {
   "cell_type": "code",
   "execution_count": 2,
   "metadata": {},
   "outputs": [
    {
     "name": "stdout",
     "output_type": "stream",
     "text": [
      "Data shape: X: (4898, 11) Y: (4898,)\n"
     ]
    }
   ],
   "source": [
    "import pandas as pd\n",
    "import numpy as np\n",
    "from matplotlib import pyplot as plt\n",
    "\n",
    "## (1) Data preparation\n",
    "df = pd.read_csv('winequality-white.csv', sep = ';')\n",
    "X = df.values[:, :11]\n",
    "Y = df.values[:, 11]\n",
    "print('Data shape:', 'X:', X.shape, 'Y:', Y.shape)\n",
    "\n",
    "# data normalization\n",
    "min_vals = np.min(X, axis = 0)\n",
    "max_vals = np.max(X, axis = 0)\n",
    "X1 = (X-min_vals)/(max_vals-min_vals)\n",
    "\n",
    "##(2) Assume a linear mode that y = w0*1 + w_1*x_1 +w_2*x_2+...+ w_11*x_11\n",
    "def predict(X, w):\n",
    "    '''\n",
    "    X: input feature vectors:m*n\n",
    "    w: weights\n",
    "    \n",
    "    return Y_hat\n",
    "    '''\n",
    "    # Prediction\n",
    "    Y_hat = np.zeros((X.shape[0]))\n",
    "    for idx, x in enumerate(X):          \n",
    "        y_hat = w[0] + np.dot(w[1:].T, np.c_[x]) # linear model\n",
    "        Y_hat[idx] = y_hat    \n",
    "    return Y_hat\n",
    "\n",
    "## (3) Loss function: L = 1/2 * sum(y_hat_i - y_i)^2\n",
    "def loss(w, X, Y):\n",
    "    '''\n",
    "    w: weights\n",
    "    X: input feature vectors\n",
    "    Y: targets\n",
    "    '''\n",
    "    Y_hat = predict(X, w)\n",
    "    loss = 1/2* np.sum(np.square(Y - Y_hat))\n",
    "    \n",
    "    return loss\n",
    "\n",
    "# Optimization 1: Gradient Descent\n",
    "def GD(X, Y, lr = 0.001, delta = 0.01, max_iter = 100):\n",
    "    '''\n",
    "    X: training data\n",
    "    Y: training target\n",
    "    lr: learning rate\n",
    "    max_iter: the max iterations\n",
    "    '''\n",
    "    \n",
    "    m = len(Y)\n",
    "    b = np.reshape(Y, [Y.shape[0],1])\n",
    "    w = np.random.rand(X.shape[1] + 1, 1)\n",
    "    A = np.c_[np.ones((m, 1)), X]\n",
    "    gradient = A.T.dot(np.dot(A, w) - b)\n",
    "    \n",
    "    loss_hist = np.zeros(max_iter) # history of loss\n",
    "    w_hist = np.zeros((max_iter, w.shape[0])) # history of weight\n",
    "    loss_w = 0\n",
    "    i = 0                  \n",
    "    while(np.linalg.norm(gradient) > delta) and (i < max_iter):\n",
    "        w_hist[i,:] = w.T\n",
    "        loss_w = loss(w, X, Y)\n",
    "        print(i, 'loss:', loss_w)\n",
    "        loss_hist[i] = loss_w\n",
    "        \n",
    "        w = w - lr * gradient        \n",
    "        gradient = A.T.dot(np.dot(A, w) - b) # update the gradient using new w\n",
    "        i = i + 1\n",
    "        \n",
    "    w_star = w  \n",
    "    return w_star, loss_hist, w_hist"
   ]
  },
  {
   "cell_type": "code",
   "execution_count": 1,
   "metadata": {
    "scrolled": false
   },
   "outputs": [
    {
     "ename": "IndentationError",
     "evalue": "expected an indented block (<ipython-input-1-f8da68d7a402>, line 27)",
     "output_type": "error",
     "traceback": [
      "\u001b[1;36m  File \u001b[1;32m\"<ipython-input-1-f8da68d7a402>\"\u001b[1;36m, line \u001b[1;32m27\u001b[0m\n\u001b[1;33m    w_hist[i,:] = w.T\u001b[0m\n\u001b[1;37m         ^\u001b[0m\n\u001b[1;31mIndentationError\u001b[0m\u001b[1;31m:\u001b[0m expected an indented block\n"
     ]
    }
   ],
   "source": [
    "# Optimization 2: implement the minibatch Gradient Descent approach\n",
    "def SGD(X, Y, lr = 0.001, batch_size = 32, epoch = 100):\n",
    "    '''\n",
    "    X: training data\n",
    "    Y: training target\n",
    "    lr: learning rate\n",
    "    batch_size: batch size\n",
    "    epoch: number of max epoches\n",
    "    \n",
    "    return: w_star, loss_hist, w_hist\n",
    "    '''\n",
    "    \n",
    "    m = len(Y)\n",
    "    w = np.random.rand(X.shape[1] + 1, 1)\n",
    "    loss_hist = np.zeros(epoch) # loss history\n",
    "    w_hist = np.zeros((epoch, w.shape[0])) #w history\n",
    "\n",
    "    #Add your code here\n",
    "    #------------------------\n",
    "    #for i in range(epoch):\n",
    "        #(2)shuffle the data and prepare batches\n",
    "        \n",
    "        \n",
    "        #for b in range(int(m/batch_size)):\n",
    "        \n",
    "            \n",
    "    #--------------------------\n",
    "    \n",
    "    w_star = w  \n",
    "    return w_star, loss_hist, w_hist"
   ]
  },
  {
   "cell_type": "code",
   "execution_count": 5,
   "metadata": {},
   "outputs": [],
   "source": [
    "# x_train, y_train, x_test, y_test = train_test_split but not scikitlearn, 70% uniform\n",
    "# SGD(x_train, y_train)\n",
    "# learning rate decay?\n",
    "# call w_star, w_hist, loss_hist = SGD(x_train, y_train)\n",
    "# Y_train_hat = predict(x_train, w_star)\n",
    "# Y_test_hat = predict(x_test, w_star)\n",
    "# compare those MSEs and MAEs\n",
    "# SGD func returns loss hist, plot it\n",
    "# Plot MSE curves"
   ]
  },
  {
   "cell_type": "code",
   "execution_count": 6,
   "metadata": {},
   "outputs": [
    {
     "name": "stdout",
     "output_type": "stream",
     "text": [
      "0 loss: 44423.48139380223\n",
      "1 loss: 2452783.991868393\n",
      "2 loss: 141638960.30512464\n",
      "3 loss: 8185240956.263145\n",
      "4 loss: 473026641789.41504\n",
      "5 loss: 27336305872287.04\n",
      "6 loss: 1579770683829176.0\n",
      "7 loss: 9.129526956913907e+16\n",
      "8 loss: 5.27597222244155e+18\n",
      "9 loss: 3.0489950928831906e+20\n"
     ]
    },
    {
     "data": {
      "image/png": "[encoded data removed]",
      "text/plain": [
       "<Figure size 432x288 with 1 Axes>"
      ]
     },
     "metadata": {
      "needs_background": "light"
     },
     "output_type": "display_data"
    }
   ],
   "source": [
    "# Example\n",
    "w_star, loss_hist, w_hist = GD(X1, Y, lr = 0.001, delta = 0.01, max_iter = 10)\n",
    "\n",
    "# show the Loss curve\n",
    "from matplotlib import pyplot as plt\n",
    "plt.plot(range(10), loss_hist)\n",
    "plt.xlabel('Iterations')\n",
    "plt.ylabel('Loss')\n",
    "plt.show()"
   ]
  }
 ],
 "metadata": {
  "kernelspec": {
   "display_name": "Python 3",
   "language": "python",
   "name": "python3"
  },
  "language_info": {
   "codemirror_mode": {
    "name": "ipython",
    "version": 3
   },
   "file_extension": ".py",
   "mimetype": "text/x-python",
   "name": "python",
   "nbconvert_exporter": "python",
   "pygments_lexer": "ipython3",
   "version": "3.8.3"
  }
 },
 "nbformat": 4,
 "nbformat_minor": 2
}
