{
 "cells": [
  {
   "cell_type": "markdown",
   "metadata": {},
   "source": [
    "### Homewoke 1: Sigmoid, KL and cross-entropy\n",
    "In this assignment, you will implemnt the sigmoid function, KL divergence and the cross-entropy.\n",
    "\n",
    "Grades: ?/100\n",
    "\n",
    "Add your code to the following sections:\n",
    "\n",
    "```python\n",
    "    # (1) add your code here\n",
    "    #-----------------------\n",
    "\n",
    "    #---------------------------------\n",
    "```"
   ]
  },
  {
   "cell_type": "code",
   "execution_count": 37,
   "metadata": {},
   "outputs": [
    {
     "name": "stdout",
     "output_type": "stream",
     "text": [
      "sigmoid(0): 0.5\n",
      "sigmoid(10^(6)): 1.0\n",
      "sigmoid(-10^(6)): 0.0\n",
      "derivative of sigmoid(0): 0.25\n",
      "derivative of sigmoid(10^(6)): 0.0\n",
      "derivative of sigmoid(-10^(6)): 0.0\n"
     ]
    },
    {
     "name": "stderr",
     "output_type": "stream",
     "text": [
      "<ipython-input-37-74261bdb2e61>:15: RuntimeWarning: overflow encountered in exp\n",
      "  return 1 / (1 + np.exp(-x))\n",
      "<ipython-input-37-74261bdb2e61>:28: RuntimeWarning: overflow encountered in exp\n",
      "  return 1 / (1 + np.exp(-x)) / (1 + np.exp(x))\n"
     ]
    },
    {
     "data": {
      "image/png": "[encoded data removed]",
      "text/plain": [
       "<Figure size 432x288 with 1 Axes>"
      ]
     },
     "metadata": {
      "needs_background": "light"
     },
     "output_type": "display_data"
    }
   ],
   "source": [
    "import math\n",
    "import matplotlib.pyplot as plt\n",
    "import numpy as np\n",
    "\n",
    "def sigm(x):\n",
    "    \"\"\"The logistic sigmoid function\n",
    "    \n",
    "    Parameters\n",
    "    ----------\n",
    "    x: 1D numpy arrays\n",
    "    \"\"\"  \n",
    "    \n",
    "    # (1) add your code here. 20 points\n",
    "    #-----------------------\n",
    "    return 1 / (1 + np.exp(-x))\n",
    "    #---------------------------------\n",
    "\n",
    "def dsigm(x):\n",
    "    \"\"\"The derivative of the logistic sigmoid function\n",
    "    \n",
    "    Parameters\n",
    "    ----------\n",
    "    x: 1D numpy arrays   \n",
    "    \"\"\" \n",
    "    \n",
    "    # (2) add your code here. 20 points  \n",
    "    #-------------------------------\n",
    "    return 1 / (1 + np.exp(-x)) / (1 + np.exp(x))\n",
    "    #------------------------------\n",
    "    \n",
    "print('sigmoid(0):', sigm(0))\n",
    "print('sigmoid(10^(6)):', sigm(1e6))\n",
    "print('sigmoid(-10^(6)):', sigm(-1e6))\n",
    "\n",
    "print('derivative of sigmoid(0):', dsigm(0))\n",
    "print('derivative of sigmoid(10^(6)):', dsigm(1e6))\n",
    "print('derivative of sigmoid(-10^(6)):', dsigm(-1e6))\n",
    "\n",
    "#show the curves of the sigm and dsigm functions\n",
    "x_list = list(np.arange(-10, 10, 0.01))\n",
    "y = sigm(np.arange(-10, 10, 0.01))\n",
    "y1 = dsigm(np.arange(-10, 10, 0.01))\n",
    "\n",
    "# (3) add your code here. 10 points\n",
    "#-----------------------\n",
    "fig, ax = plt.subplots()\n",
    "ax.plot(x_list, y)\n",
    "ax.plot(x_list, y1)\n",
    "#-----------------------\n",
    "plt.show()"
   ]
  },
  {
   "cell_type": "code",
   "execution_count": 39,
   "metadata": {},
   "outputs": [
    {
     "name": "stdout",
     "output_type": "stream",
     "text": [
      "0.0444030075868823 0.03669001403475056\n"
     ]
    }
   ],
   "source": [
    "# KL divergience\n",
    "\n",
    "def KL(p, q):\n",
    "    \n",
    "    \"\"\"KL divergence D(P || Q)\n",
    "    \n",
    "    Parameters\n",
    "    ----------\n",
    "    p, q : 1D numpy arrays of discrete probability distributions\n",
    "    \n",
    "    \"\"\"\n",
    "    \n",
    "    # (4) add your code here. 20 points\n",
    "    #-----------------------\n",
    "    assert len(p) == len(q)\n",
    "    kl = 0\n",
    "    \n",
    "    for i in range(len(p)):\n",
    "        kl += p[i] * (np.log(p[i]) - np.log(q[i]))\n",
    "        \n",
    "    return kl\n",
    "    #-----------------------\n",
    "\n",
    "# test code\n",
    "p = [0.2, 0.8]\n",
    "q = [0.1, 0.9]\n",
    "print(KL(p, q), KL(q, p))"
   ]
  },
  {
   "cell_type": "code",
   "execution_count": 40,
   "metadata": {},
   "outputs": [
    {
     "name": "stdout",
     "output_type": "stream",
     "text": [
      "0.5448054311250702 0.3617729874261988\n"
     ]
    }
   ],
   "source": [
    "# Cross-entropy\n",
    "def crossentropy(p, q):\n",
    "    \"\"\"The Cross-entropy H(P, Q)\n",
    "    \n",
    "    Parameters\n",
    "    ----------\n",
    "    p, q : 1D numpy arrays of discrete probability distributions\n",
    "    \n",
    "    \"\"\"  \n",
    "    \n",
    "    # (5) add your code here. 30 points\n",
    "    #-----------------------\n",
    "    assert len(p) == len(q)\n",
    "    ce = 0\n",
    "    \n",
    "    for i in range(len(p)):\n",
    "        ce -= p[i] * np.log(q[i])\n",
    "    \n",
    "    return ce\n",
    "    #-----------------------\n",
    "    \n",
    "# test code\n",
    "p = [0.2, 0.8]\n",
    "q = [0.1, 0.9]\n",
    "print(crossentropy(p, q), crossentropy(q, p))    "
   ]
  }
 ],
 "metadata": {
  "kernelspec": {
   "display_name": "Python 3",
   "language": "python",
   "name": "python3"
  },
  "language_info": {
   "codemirror_mode": {
    "name": "ipython",
    "version": 3
   },
   "file_extension": ".py",
   "mimetype": "text/x-python",
   "name": "python",
   "nbconvert_exporter": "python",
   "pygments_lexer": "ipython3",
   "version": "3.8.3"
  }
 },
 "nbformat": 4,
 "nbformat_minor": 2
}
