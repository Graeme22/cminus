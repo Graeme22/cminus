{
 "cells": [
  {
   "cell_type": "markdown",
   "metadata": {},
   "source": [
    "# Lecture 7: Gradient Descent: An Example\n",
    "## Wine Quality Prediction\n",
    "\n",
    "![Fig.1](wine_quality.jpg \"Wine Quality\")\n",
    "\n",
    "### Data Set Information:\n",
    "\n",
    "The two datasets are related to red and white variants of the Portuguese \"Vinho Verde\" wine. \n",
    "These datasets can be viewed as classification or regression tasks.\n",
    "http://archive.ics.uci.edu/ml/machine-learning-databases/wine-quality/\n",
    "\n",
    "#### Input features (based on physicochemical tests):\n",
    "1 - fixed acidity.\n",
    "2 - volatile acidity.\n",
    "3 - citric acid.\n",
    "4 - residual sugar.\n",
    "5 - chlorides.\n",
    "6 - free sulfur dioxide.\n",
    "7 - total sulfur dioxide.\n",
    "8 - density.\n",
    "9 - pH.\n",
    "10 - sulphates.\n",
    "11 - alcohol.\n",
    "\n",
    "#### Output variable (based on sensory data):\n",
    "12 - quality (score between 0 and 10)\n"
   ]
  },
  {
   "cell_type": "code",
   "execution_count": 1,
   "metadata": {},
   "outputs": [],
   "source": [
    "import pandas as pd\n",
    "import numpy as np"
   ]
  },
  {
   "cell_type": "code",
   "execution_count": 2,
   "metadata": {},
   "outputs": [
    {
     "name": "stdout",
     "output_type": "stream",
     "text": [
      "(4898, 11) (4898,)\n"
     ]
    },
    {
     "data": {
      "text/plain": [
       "array([1., 1., 1., 1., 1., 1., 1., 1., 1., 1., 1.])"
      ]
     },
     "execution_count": 2,
     "metadata": {},
     "output_type": "execute_result"
    }
   ],
   "source": [
    "## (1) Data preparation\n",
    "df=pd.read_csv('winequality-white.csv', sep = ';')\n",
    "df\n",
    "X = df.values[:, :11]\n",
    "Y = df.values[:, 11]\n",
    "print(X.shape, Y.shape)\n",
    "\n",
    "# data normalization\n",
    "min_vals = np.min(X, axis = 0)\n",
    "max_vals = np.max(X, axis = 0)\n",
    "X1 = (X-min_vals)/(max_vals-min_vals)# --> 0 to 1\n",
    "np.max(X1, axis = 0)"
   ]
  },
  {
   "cell_type": "code",
   "execution_count": 3,
   "metadata": {},
   "outputs": [
    {
     "name": "stdout",
     "output_type": "stream",
     "text": [
      "[0.30769231 0.18627451 0.21686747 0.30828221 0.10682493 0.14982578\n",
      " 0.37354988 0.26778485 0.25454545 0.26744186 0.12903226] [[0.25710484]\n",
      " [0.67931508]\n",
      " [0.94213081]\n",
      " [0.68859826]\n",
      " [0.4322967 ]\n",
      " [0.65813821]\n",
      " [0.13110635]\n",
      " [0.48622739]\n",
      " [0.19762289]\n",
      " [0.81447919]\n",
      " [0.09307962]\n",
      " [0.79402925]]\n"
     ]
    },
    {
     "data": {
      "text/plain": [
       "array([[1.58339379]])"
      ]
     },
     "execution_count": 3,
     "metadata": {},
     "output_type": "execute_result"
    }
   ],
   "source": [
    "##(2) Assume a linear mode that y = w0*1 + w_1*x_1 +w_2*x_2+...+ w_11*x_11\n",
    "def predict(x, w):\n",
    "    '''\n",
    "    x: input feature vector\n",
    "    w: weights\n",
    "    \n",
    "    return y_hat\n",
    "    '''\n",
    "    \n",
    "    y_hat = w[0] + np.dot(w[1:].T, np.c_[x]) # linear model\n",
    "    \n",
    "    return y_hat\n",
    "\n",
    "w = np.random.rand(12, 1)\n",
    "x = X1[0, :]\n",
    "print(x, w)\n",
    "predict(x, w)"
   ]
  },
  {
   "cell_type": "code",
   "execution_count": 4,
   "metadata": {},
   "outputs": [
    {
     "data": {
      "text/plain": [
       "array([[43126.53124035]])"
      ]
     },
     "execution_count": 4,
     "metadata": {},
     "output_type": "execute_result"
    }
   ],
   "source": [
    "## (3) Loss function: L = 1/2 * sum(y_hat_i - y_i)^2\n",
    "def loss(w, X, Y):\n",
    "    '''\n",
    "    w: weights\n",
    "    X: input feature vector\n",
    "    Y: targets\n",
    "    '''\n",
    "    m = len(Y)\n",
    "    loss = 0\n",
    "    for i in range(m):\n",
    "        y_hat = predict(X[i, :], w)\n",
    "        loss = loss + np.square(Y[i] - y_hat)\n",
    "        #print(i, y_hat, Y[i], loss)\n",
    "    loss = loss/(2)\n",
    "    \n",
    "    return loss\n",
    "\n",
    "loss(w, X1, Y)"
   ]
  },
  {
   "cell_type": "code",
   "execution_count": 5,
   "metadata": {
    "scrolled": true
   },
   "outputs": [
    {
     "name": "stdout",
     "output_type": "stream",
     "text": [
      "0 [[54193.18255274]]\n",
      "1 [[3036.85901416]]\n",
      "2 [[2023.10298224]]\n",
      "3 [[1989.86626877]]\n",
      "4 [[1976.2840697]]\n",
      "5 [[1963.55614431]]\n",
      "6 [[1951.29525385]]\n",
      "7 [[1939.47489793]]\n",
      "8 [[1928.07645533]]\n",
      "9 [[1917.08225081]]\n",
      "10 [[1906.4753845]]\n",
      "11 [[1896.23969509]]\n",
      "12 [[1886.35972701]]\n",
      "13 [[1876.82069924]]\n",
      "14 [[1867.60847538]]\n",
      "15 [[1858.70953518]]\n",
      "16 [[1850.11094724]]\n",
      "17 [[1841.80034296]]\n",
      "18 [[1833.76589168]]\n",
      "19 [[1825.99627687]]\n",
      "20 [[1818.48067339]]\n",
      "21 [[1811.20872581]]\n",
      "22 [[1804.17052762]]\n",
      "23 [[1797.35660146]]\n",
      "24 [[1790.7578801]]\n",
      "25 [[1784.36568838]]\n",
      "26 [[1778.17172591]]\n",
      "27 [[1772.16805052]]\n",
      "28 [[1766.34706249]]\n",
      "29 [[1760.70148942]]\n",
      "30 [[1755.22437182]]\n",
      "31 [[1749.90904935]]\n",
      "32 [[1744.74914762]]\n",
      "33 [[1739.7385656]]\n",
      "34 [[1734.87146362]]\n",
      "35 [[1730.14225184]]\n",
      "36 [[1725.5455793]]\n",
      "37 [[1721.0763234]]\n",
      "38 [[1716.72957988]]\n",
      "39 [[1712.50065322]]\n",
      "40 [[1708.38504751]]\n",
      "41 [[1704.37845765]]\n",
      "42 [[1700.47676103]]\n",
      "43 [[1696.67600951]]\n",
      "44 [[1692.97242175]]\n",
      "45 [[1689.36237599]]\n",
      "46 [[1685.84240297]]\n",
      "47 [[1682.40917934]]\n",
      "48 [[1679.05952125]]\n",
      "49 [[1675.79037824]]\n",
      "50 [[1672.59882748]]\n",
      "51 [[1669.48206811]]\n",
      "52 [[1666.43741603]]\n",
      "53 [[1663.46229871]]\n",
      "54 [[1660.55425042]]\n",
      "55 [[1657.71090754]]\n",
      "56 [[1654.9300041]]\n",
      "57 [[1652.2093676]]\n",
      "58 [[1649.54691491]]\n",
      "59 [[1646.9406484]]\n",
      "60 [[1644.38865224]]\n",
      "61 [[1641.88908886]]\n",
      "62 [[1639.44019557]]\n",
      "63 [[1637.0402813]]\n",
      "64 [[1634.68772353]]\n",
      "65 [[1632.38096534]]\n",
      "66 [[1630.11851253]]\n",
      "67 [[1627.898931]]\n",
      "68 [[1625.7208441]]\n",
      "69 [[1623.58293019]]\n",
      "70 [[1621.48392027]]\n",
      "71 [[1619.42259572]]\n",
      "72 [[1617.39778617]]\n",
      "73 [[1615.40836738]]\n",
      "74 [[1613.45325933]]\n",
      "75 [[1611.53142429]]\n",
      "76 [[1609.64186504]]\n",
      "77 [[1607.78362315]]\n",
      "78 [[1605.95577729]]\n",
      "79 [[1604.15744172]]\n",
      "80 [[1602.38776471]]\n",
      "81 [[1600.64592717]]\n",
      "82 [[1598.93114122]]\n",
      "83 [[1597.24264888]]\n",
      "84 [[1595.57972083]]\n",
      "85 [[1593.94165521]]\n",
      "86 [[1592.32777641]]\n",
      "87 [[1590.73743406]]\n",
      "88 [[1589.17000188]]\n",
      "89 [[1587.62487673]]\n",
      "90 [[1586.10147764]]\n",
      "91 [[1584.59924488]]\n",
      "92 [[1583.11763905]]\n",
      "93 [[1581.65614029]]\n",
      "94 [[1580.21424744]]\n",
      "95 [[1578.79147726]]\n",
      "96 [[1577.38736371]]\n",
      "97 [[1576.00145724]]\n",
      "98 [[1574.63332409]]\n",
      "99 [[1573.2825457]]\n"
     ]
    }
   ],
   "source": [
    "#(4) Optimization: Gradient Descent\n",
    "def GD(X, Y, init_w, lr = 0.001, delta = 0.01, max_iter = 100):\n",
    "    '''GD\n",
    "    parameters:\n",
    "        init_w: w^0\n",
    "        X: training data\n",
    "        Y: training target\n",
    "        lr: learning rate\n",
    "        max_iter: the max iterations of the while loop\n",
    "        delta: threshold for the stopping condition\n",
    "    \n",
    "    return:\n",
    "        w_star: w*\n",
    "        \n",
    "    '''\n",
    "    \n",
    "    m = len(Y)\n",
    "    b = np.reshape(Y, [Y.shape[0],1])\n",
    "    w = init_w\n",
    "    A = np.c_[np.ones((m, 1)), X]\n",
    "    gradient = A.T.dot(np.dot(A, w)-b)\n",
    "    \n",
    "    loss_hist = np.zeros(max_iter)\n",
    "    w_hist = np.zeros((max_iter, init_w.shape[0]))\n",
    "    i = 0                  \n",
    "    while(np.linalg.norm(gradient) > delta) and (i < max_iter):\n",
    "        w_hist[i,:] = w.T\n",
    "        loss_w = loss(w, X, Y)\n",
    "        print(i, loss_w)\n",
    "        loss_hist[i] = loss_w\n",
    "        \n",
    "        w = w - lr*gradient        \n",
    "        gradient = A.T.dot(np.dot(A, w)-b) \n",
    "        i = i + 1\n",
    "        \n",
    "    w_star = w  \n",
    "    return w_star, loss_hist, w_hist\n",
    "        \n",
    "init_w = np.random.rand(12, 1)\n",
    "w_star, loss_hist, w_hist = GD(X1, Y, init_w, lr = 0.0001, delta = 0.01, max_iter = 100)"
   ]
  },
  {
   "cell_type": "code",
   "execution_count": 7,
   "metadata": {},
   "outputs": [
    {
     "data": {
      "image/png": "[encoded data removed]",
      "text/plain": [
       "<Figure size 432x288 with 1 Axes>"
      ]
     },
     "metadata": {
      "needs_background": "light"
     },
     "output_type": "display_data"
    }
   ],
   "source": [
    "# show the Loss curve\n",
    "from matplotlib import pyplot as plt\n",
    "plt.plot(range(100), loss_hist)\n",
    "plt.xlabel('Iterations')\n",
    "plt.ylabel('Loss')\n",
    "plt.show()"
   ]
  },
  {
   "cell_type": "code",
   "execution_count": 8,
   "metadata": {},
   "outputs": [
    {
     "name": "stdout",
     "output_type": "stream",
     "text": [
      "[6. 6. 6. 6. 6. 6. 6. 6. 6. 6.] [5.34961445 5.43510214 5.83742318 5.71514878 5.71514878 5.83742318\n",
      " 5.33267665 5.34961445 5.43510214 6.09903675]\n"
     ]
    }
   ],
   "source": [
    "# Prediction\n",
    "Y_hat = np.zeros((len(Y)))\n",
    "for idx, x in enumerate(X1):\n",
    "    Y_hat[idx] = predict(x, w_star)              \n",
    "    \n",
    "print(Y[:10], Y_hat[:10])"
   ]
  },
  {
   "cell_type": "code",
   "execution_count": null,
   "metadata": {},
   "outputs": [],
   "source": []
  }
 ],
 "metadata": {
  "kernelspec": {
   "display_name": "Python 3",
   "language": "python",
   "name": "python3"
  },
  "language_info": {
   "codemirror_mode": {
    "name": "ipython",
    "version": 3
   },
   "file_extension": ".py",
   "mimetype": "text/x-python",
   "name": "python",
   "nbconvert_exporter": "python",
   "pygments_lexer": "ipython3",
   "version": "3.8.3"
  }
 },
 "nbformat": 4,
 "nbformat_minor": 2
}
